{
  "nbformat": 4,
  "nbformat_minor": 0,
  "metadata": {
    "colab": {
      "name": "Untitled0.ipynb",
      "provenance": []
    },
    "kernelspec": {
      "name": "python3",
      "display_name": "Python 3"
    }
  },
  "cells": [
    {
      "cell_type": "code",
      "metadata": {
        "id": "EG30M4dpDVNn",
        "colab_type": "code",
        "colab": {}
      },
      "source": [
        "from __future__ import division\n",
        "\n",
        "import numpy as np\n",
        "import pandas as pd\n",
        "from sklearn.ensemble import (RandomForestClassifier, ExtraTreesClassifier, GradientBoostingClassifier)\n",
        "from sklearn.model_selection import cross_validate\n",
        "from sklearn import metrics, linear_model, preprocessing\n",
        "from sklearn.model_selection import train_test_split\n",
        "import logging"
      ],
      "execution_count": 0,
      "outputs": []
    },
    {
      "cell_type": "code",
      "metadata": {
        "id": "oVT3zd5QDdJ4",
        "colab_type": "code",
        "colab": {}
      },
      "source": [
        "# metrics, SEED = 42  # always use a seed for randomized procedures\n",
        "SEED = 42  # always use a seed for randomized procedures\n",
        "def save_results(predictions, filename):\n",
        "    \"\"\"Given a vector of predictions, save results in CSV format.\"\"\"\n",
        "    with open(filename, 'w') as f:\n",
        "        f.write(\"id,ACTION\\n\")\n",
        "        for i, pred in enumerate(predictions):\n",
        "            f.write(\"%d,%f\\n\" % (i + 1, pred))"
      ],
      "execution_count": 0,
      "outputs": []
    },
    {
      "cell_type": "code",
      "metadata": {
        "id": "BjVSPdFhDdMi",
        "colab_type": "code",
        "outputId": "44bbe384-d556-4ec8-99d9-d6b217db2879",
        "colab": {
          "base_uri": "https://localhost:8080/",
          "height": 34
        }
      },
      "source": [
        "\"\"\"\n",
        "Fit models and make predictions.\n",
        "We'll use one-hot encoding to transform our categorical features\n",
        "into binary features.\n",
        "y and X will be numpy array objects.\n",
        "\"\"\"\n",
        "# === load data in memory === #\n",
        "print (\"loading data\")\n",
        "X = pd.read_csv('D:/applied/amazon/train.csv')\n",
        "X = X.drop(['ROLE_CODE'], axis=1)\n",
        "y = X['ACTION']\n",
        "X = X.drop(['ACTION'], axis=1)\n",
        "X_test = pd.read_csv('D:/applied/amazon/test.csv', index_col=0)\n",
        "X_test = X_test.drop(['ROLE_CODE'], axis=1)\n",
        "X_test['ACTION'] = 0\n",
        "y_test = X_test['ACTION']\n",
        "X_test = X_test.drop(['ACTION'], axis=1)"
      ],
      "execution_count": 5,
      "outputs": [
        {
          "output_type": "stream",
          "text": [
            "loading data\n"
          ],
          "name": "stdout"
        }
      ]
    },
    {
      "cell_type": "code",
      "metadata": {
        "id": "M8stICvIDdPl",
        "colab_type": "code",
        "colab": {}
      },
      "source": [
        "modelRF =RandomForestClassifier(n_estimators=1999, max_features='sqrt', max_depth=None, min_samples_split=9, random_state=SEED)#8803\n",
        "modelXT =ExtraTreesClassifier(n_estimators=1999, max_features='sqrt', max_depth=None, min_samples_split=8, random_state=SEED) #8903\n",
        "modelGB =GradientBoostingClassifier(n_estimators=50, learning_rate=0.20, max_depth=20, min_samples_split=9, random_state=SEED)  #8749\n",
        "# 599: 20/90/08\n",
        "#1999: 24/95/06\n",
        "\n",
        "X_all = pd.concat([X_test,X], ignore_index=True)\n",
        "\n",
        "# I want to combine role_title as a subset of role_familia and see if same results\n",
        "X_all['ROLE_TITLE'] = X_all['ROLE_TITLE'] + (1000 * X_all['ROLE_FAMILY'])\n",
        "X_all['ROLE_ROLLUPS'] = X_all['ROLE_ROLLUP_1'] + (10000 * X_all['ROLE_ROLLUP_2'])\n",
        "X_all = X_all.drop(['ROLE_ROLLUP_1','ROLE_ROLLUP_2','ROLE_FAMILY'], axis=1)"
      ],
      "execution_count": 0,
      "outputs": []
    },
    {
      "cell_type": "code",
      "metadata": {
        "id": "Tpdr0229DdSC",
        "colab_type": "code",
        "colab": {
          "base_uri": "https://localhost:8080/",
          "height": 252
        },
        "outputId": "113e4a4d-b710-4014-e6a9-945c429665bc"
      },
      "source": [
        "# Count/freq\n",
        "print( \"Counts\")\n",
        "for col in X_all.columns:\n",
        "    X_all['cnt'+col] = 0\n",
        "    groups = X_all.groupby([col])\n",
        "    for name, group in groups:\n",
        "        count = group[col].count()\n",
        "        X_all['cnt'+col].ix[group.index] = count \n",
        "    X_all['cnt'+col] = X_all['cnt'+col].apply(np.log) # could check if this is neccesary, I think probably not"
      ],
      "execution_count": 9,
      "outputs": [
        {
          "output_type": "stream",
          "text": [
            "Counts\n"
          ],
          "name": "stdout"
        },
        {
          "output_type": "stream",
          "text": [
            "C:\\Users\\CHEN\\Anaconda3\\lib\\site-packages\\ipykernel_launcher.py:7: FutureWarning: \n",
            ".ix is deprecated. Please use\n",
            ".loc for label based indexing or\n",
            ".iloc for positional indexing\n",
            "\n",
            "See the documentation here:\n",
            "http://pandas.pydata.org/pandas-docs/stable/user_guide/indexing.html#ix-indexer-is-deprecated\n",
            "  import sys\n",
            "C:\\Users\\CHEN\\Anaconda3\\lib\\site-packages\\pandas\\core\\indexing.py:205: SettingWithCopyWarning: \n",
            "A value is trying to be set on a copy of a slice from a DataFrame\n",
            "\n",
            "See the caveats in the documentation: http://pandas.pydata.org/pandas-docs/stable/user_guide/indexing.html#returning-a-view-versus-a-copy\n",
            "  self._setitem_with_indexer(indexer, value)\n"
          ],
          "name": "stderr"
        }
      ]
    },
    {
      "cell_type": "code",
      "metadata": {
        "id": "FZWA_HnIDqBX",
        "colab_type": "code",
        "colab": {
          "base_uri": "https://localhost:8080/",
          "height": 151
        },
        "outputId": "ae826eb8-a4d4-4e88-ebba-2460f5d33c76"
      },
      "source": [
        "# Percent of dept that is this resource\n",
        "for col in X_all.columns[1:6]:\n",
        "    X_all['Duse'+col] = 0.0\n",
        "    groups = X_all.groupby([col])\n",
        "    for name, group in groups:\n",
        "        grps = group.groupby(['RESOURCE'])\n",
        "        for rsrc, grp in grps:\n",
        "            X_all['Duse'+col].ix[grp.index] = float(len(grp.index)) / float(len(group.index) )"
      ],
      "execution_count": 10,
      "outputs": [
        {
          "output_type": "stream",
          "text": [
            "C:\\Users\\CHEN\\Anaconda3\\lib\\site-packages\\ipykernel_launcher.py:7: FutureWarning: \n",
            ".ix is deprecated. Please use\n",
            ".loc for label based indexing or\n",
            ".iloc for positional indexing\n",
            "\n",
            "See the documentation here:\n",
            "http://pandas.pydata.org/pandas-docs/stable/user_guide/indexing.html#ix-indexer-is-deprecated\n",
            "  import sys\n"
          ],
          "name": "stderr"
        }
      ]
    },
    {
      "cell_type": "code",
      "metadata": {
        "id": "hv_TAPU3DqEB",
        "colab_type": "code",
        "colab": {
          "base_uri": "https://localhost:8080/",
          "height": 168
        },
        "outputId": "554021ad-96dd-425b-be20-8558b4d16dea"
      },
      "source": [
        "# Number of resources that a manager manages\n",
        "for col in X_all.columns[0:1]:\n",
        "    if col == 'MGR_ID':\n",
        "        continue\n",
        "    print (col)\n",
        "    X_all['Mdeps'+col] = 0\n",
        "    groups = X_all.groupby(['MGR_ID'])\n",
        "    for name, group in groups:\n",
        "        X_all['Mdeps'+col].ix[group.index] = len(group[col].unique()) "
      ],
      "execution_count": 12,
      "outputs": [
        {
          "output_type": "stream",
          "text": [
            "RESOURCE\n"
          ],
          "name": "stdout"
        },
        {
          "output_type": "stream",
          "text": [
            "C:\\Users\\CHEN\\Anaconda3\\lib\\site-packages\\ipykernel_launcher.py:8: FutureWarning: \n",
            ".ix is deprecated. Please use\n",
            ".loc for label based indexing or\n",
            ".iloc for positional indexing\n",
            "\n",
            "See the documentation here:\n",
            "http://pandas.pydata.org/pandas-docs/stable/user_guide/indexing.html#ix-indexer-is-deprecated\n",
            "  \n"
          ],
          "name": "stderr"
        }
      ]
    },
    {
      "cell_type": "code",
      "metadata": {
        "id": "MpRtWx3PDqHk",
        "colab_type": "code",
        "colab": {}
      },
      "source": [
        "X = X_all[:][X_all.index>=len(X_test.index)]\n",
        "X_test = X_all[:][X_all.index<len(X_test.index)]\n",
        "\n",
        "# === Combine Models === #\n",
        "# Do a linear combination using a cross_validated data split\n",
        "X_train, X_cv, y_train, y_cv = train_test_split(X, y, test_size=0.5, random_state=SEED)"
      ],
      "execution_count": 0,
      "outputs": []
    },
    {
      "cell_type": "code",
      "metadata": {
        "id": "Ms9kc2CKDqK_",
        "colab_type": "code",
        "colab": {
          "base_uri": "https://localhost:8080/",
          "height": 87
        },
        "outputId": "05cebc49-d938-4fc7-830c-aa3526f5d778"
      },
      "source": [
        "logging.info('start') # 4:28\n",
        "modelRF.fit(X_cv, y_cv) \n",
        "modelXT.fit(X_cv, y_cv) \n",
        "modelGB.fit(X_cv, y_cv) \n",
        "predsRF = modelRF.predict_proba(X_train)[:, 1]\n",
        "predsXT = modelXT.predict_proba(X_train)[:, 1]\n",
        "predsGB = modelGB.predict_proba(X_train)[:, 1]\n",
        "preds = np.hstack((predsRF, predsXT, predsGB)).reshape(3,len(predsGB)).transpose()\n",
        "preds[preds>0.9999999]=0.9999999\n",
        "preds[preds<0.0000001]=0.0000001\n",
        "preds = -np.log((1-preds)/preds)\n",
        "modelEN1 = linear_model.LogisticRegression()\n",
        "modelEN1.fit(preds, y_train)\n",
        "logging.info('end')\n",
        "print (modelEN1.coef_)"
      ],
      "execution_count": 22,
      "outputs": [
        {
          "output_type": "stream",
          "text": [
            "[[0.22143483 0.98816299 0.06566175]]\n"
          ],
          "name": "stdout"
        },
        {
          "output_type": "stream",
          "text": [
            "C:\\Users\\CHEN\\Anaconda3\\lib\\site-packages\\sklearn\\linear_model\\logistic.py:432: FutureWarning: Default solver will be changed to 'lbfgs' in 0.22. Specify a solver to silence this warning.\n",
            "  FutureWarning)\n"
          ],
          "name": "stderr"
        }
      ]
    },
    {
      "cell_type": "code",
      "metadata": {
        "id": "6GZ7u59ODvCe",
        "colab_type": "code",
        "colab": {
          "base_uri": "https://localhost:8080/",
          "height": 87
        },
        "outputId": "7fbb8cc5-7e07-4cb3-8268-8ec6cdf2b7a6"
      },
      "source": [
        "modelRF.fit(X_train, y_train) \n",
        "modelXT.fit(X_train, y_train) \n",
        "modelGB.fit(X_train, y_train) \n",
        "predsRF = modelRF.predict_proba(X_cv)[:, 1]\n",
        "predsXT = modelXT.predict_proba(X_cv)[:, 1]\n",
        "predsGB = modelGB.predict_proba(X_cv)[:, 1]\n",
        "preds = np.hstack((predsRF, predsXT, predsGB)).reshape(3,len(predsGB)).transpose()\n",
        "preds[preds>0.9999999]=0.9999999\n",
        "preds[preds<0.0000001]=0.0000001\n",
        "preds = -np.log((1-preds)/preds)\n",
        "modelEN2 = linear_model.LogisticRegression()\n",
        "modelEN2.fit(preds, y_cv)\n",
        "print (modelEN2.coef_)"
      ],
      "execution_count": 24,
      "outputs": [
        {
          "output_type": "stream",
          "text": [
            "[[0.26812988 0.92114096 0.05551378]]\n"
          ],
          "name": "stdout"
        },
        {
          "output_type": "stream",
          "text": [
            "C:\\Users\\CHEN\\Anaconda3\\lib\\site-packages\\sklearn\\linear_model\\logistic.py:432: FutureWarning: Default solver will be changed to 'lbfgs' in 0.22. Specify a solver to silence this warning.\n",
            "  FutureWarning)\n"
          ],
          "name": "stderr"
        }
      ]
    },
    {
      "cell_type": "code",
      "metadata": {
        "id": "8d3_Gq5XDvGF",
        "colab_type": "code",
        "colab": {
          "base_uri": "https://localhost:8080/",
          "height": 185
        },
        "outputId": "cfbdbc89-fafc-45a3-ac40-0f95dc800704"
      },
      "source": [
        "coefRF = modelEN1.coef_[0][0] + modelEN2.coef_[0][0]\n",
        "coefXT = modelEN1.coef_[0][1] + modelEN2.coef_[0][1]\n",
        "coefGB = modelEN1.coef_[0][2] + modelEN2.coef_[0][2]\n",
        "\n",
        "# === Predictions === #\n",
        "# When making predictions, retrain the model on the whole training set\n",
        "modelRF.fit(X, y)\n",
        "modelXT.fit(X, y)\n",
        "modelGB.fit(X, y)"
      ],
      "execution_count": 25,
      "outputs": [
        {
          "output_type": "execute_result",
          "data": {
            "text/plain": [
              "GradientBoostingClassifier(criterion='friedman_mse', init=None,\n",
              "                           learning_rate=0.2, loss='deviance', max_depth=20,\n",
              "                           max_features=None, max_leaf_nodes=None,\n",
              "                           min_impurity_decrease=0.0, min_impurity_split=None,\n",
              "                           min_samples_leaf=1, min_samples_split=9,\n",
              "                           min_weight_fraction_leaf=0.0, n_estimators=50,\n",
              "                           n_iter_no_change=None, presort='auto',\n",
              "                           random_state=42, subsample=1.0, tol=0.0001,\n",
              "                           validation_fraction=0.1, verbose=0,\n",
              "                           warm_start=False)"
            ]
          },
          "metadata": {
            "tags": []
          },
          "execution_count": 25
        }
      ]
    },
    {
      "cell_type": "code",
      "metadata": {
        "id": "mSY26N1_DvIr",
        "colab_type": "code",
        "colab": {}
      },
      "source": [
        "### Combine here\n",
        "predsRF = modelRF.predict_proba(X_test)[:, 1]\n",
        "predsXT = modelXT.predict_proba(X_test)[:, 1]\n",
        "predsGB = modelGB.predict_proba(X_test)[:, 1]\n",
        "predsRF[predsRF>0.9999999]=0.9999999\n",
        "predsXT[predsXT>0.9999999]=0.9999999\n",
        "predsGB[predsGB>0.9999999]=0.9999999\n",
        "predsRF[predsRF<0.0000001]=0.0000001\n",
        "predsXT[predsXT<0.0000001]=0.0000001\n",
        "predsGB[predsGB<0.0000001]=0.0000001\n",
        "predsRF = -np.log((1-predsRF)/predsRF)\n",
        "predsXT = -np.log((1-predsXT)/predsXT)\n",
        "predsGB = -np.log((1-predsGB)/predsGB)\n",
        "preds = coefRF * predsRF + coefXT * predsXT + coefGB * predsGB"
      ],
      "execution_count": 0,
      "outputs": []
    },
    {
      "cell_type": "code",
      "metadata": {
        "id": "fR1yvrzpDdUy",
        "colab_type": "code",
        "colab": {}
      },
      "source": [
        "save_results(preds, \"D:/applied/amazon/original_jpyternotebook_result/result_1.csv\")"
      ],
      "execution_count": 0,
      "outputs": []
    },
    {
      "cell_type": "code",
      "metadata": {
        "id": "PDQp1CC9ZtDE",
        "colab_type": "code",
        "colab": {}
      },
      "source": [
        ""
      ],
      "execution_count": 0,
      "outputs": []
    }
  ]
}